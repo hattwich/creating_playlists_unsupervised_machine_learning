{
 "cells": [
  {
   "cell_type": "code",
   "execution_count": 1,
   "metadata": {},
   "outputs": [],
   "source": [
    "# pip install spotipy --update\n",
    "# pip install --upgrade library_name\n",
    "# pip install python-dotenv\n"
   ]
  },
  {
   "attachments": {},
   "cell_type": "markdown",
   "metadata": {},
   "source": [
    "## preparation - importing pandas, spotipy etc., reading csv"
   ]
  },
  {
   "cell_type": "code",
   "execution_count": 2,
   "metadata": {},
   "outputs": [],
   "source": [
    "import spotipy\n",
    "import pandas as pd\n",
    "from spotipy.oauth2 import SpotifyOAuth\n",
    "import json\n",
    "\n",
    "import os\n",
    "from dotenv import load_dotenv, dotenv_values\n"
   ]
  },
  {
   "cell_type": "code",
   "execution_count": 3,
   "metadata": {},
   "outputs": [],
   "source": [
    "songs = pd.read_csv(\n",
    "    './data/songs1.csv')\n"
   ]
  },
  {
   "cell_type": "code",
   "execution_count": 4,
   "metadata": {},
   "outputs": [
    {
     "data": {
      "text/html": [
       "<div>\n",
       "<style scoped>\n",
       "    .dataframe tbody tr th:only-of-type {\n",
       "        vertical-align: middle;\n",
       "    }\n",
       "\n",
       "    .dataframe tbody tr th {\n",
       "        vertical-align: top;\n",
       "    }\n",
       "\n",
       "    .dataframe thead th {\n",
       "        text-align: right;\n",
       "    }\n",
       "</style>\n",
       "<table border=\"1\" class=\"dataframe\">\n",
       "  <thead>\n",
       "    <tr style=\"text-align: right;\">\n",
       "      <th></th>\n",
       "      <th>name</th>\n",
       "      <th>artist</th>\n",
       "      <th>danceability</th>\n",
       "      <th>energy</th>\n",
       "      <th>key</th>\n",
       "      <th>loudness</th>\n",
       "      <th>mode</th>\n",
       "      <th>speechiness</th>\n",
       "      <th>acousticness</th>\n",
       "      <th>instrumentalness</th>\n",
       "      <th>liveness</th>\n",
       "      <th>valence</th>\n",
       "      <th>tempo</th>\n",
       "      <th>type</th>\n",
       "      <th>duration_ms</th>\n",
       "      <th>time_signature</th>\n",
       "      <th>id</th>\n",
       "      <th>html</th>\n",
       "      <th>cluster</th>\n",
       "    </tr>\n",
       "  </thead>\n",
       "  <tbody>\n",
       "    <tr>\n",
       "      <th>0</th>\n",
       "      <td>Se Eu Quiser Falar Com Deus                   ...</td>\n",
       "      <td>Gilberto Gil</td>\n",
       "      <td>0.658</td>\n",
       "      <td>0.259</td>\n",
       "      <td>11</td>\n",
       "      <td>-13.141</td>\n",
       "      <td>0</td>\n",
       "      <td>0.0705</td>\n",
       "      <td>0.694</td>\n",
       "      <td>0.000059</td>\n",
       "      <td>0.975</td>\n",
       "      <td>0.306</td>\n",
       "      <td>110.376</td>\n",
       "      <td></td>\n",
       "      <td>256213</td>\n",
       "      <td>4</td>\n",
       "      <td>1n7JnwviZ7zf0LR1tcGFq7</td>\n",
       "      <td>https://open.spotify.com/track/1n7JnwviZ7zf0LR...</td>\n",
       "      <td>15</td>\n",
       "    </tr>\n",
       "    <tr>\n",
       "      <th>1</th>\n",
       "      <td>Saudade De Bahia                              ...</td>\n",
       "      <td>Antônio Carlos Jobim</td>\n",
       "      <td>0.742</td>\n",
       "      <td>0.399</td>\n",
       "      <td>2</td>\n",
       "      <td>-12.646</td>\n",
       "      <td>1</td>\n",
       "      <td>0.0346</td>\n",
       "      <td>0.217</td>\n",
       "      <td>0.000002</td>\n",
       "      <td>0.107</td>\n",
       "      <td>0.693</td>\n",
       "      <td>125.039</td>\n",
       "      <td></td>\n",
       "      <td>191867</td>\n",
       "      <td>4</td>\n",
       "      <td>5QGM1U0eCYrQuwSJwTm5Zq</td>\n",
       "      <td>https://open.spotify.com/track/5QGM1U0eCYrQuwS...</td>\n",
       "      <td>9</td>\n",
       "    </tr>\n",
       "  </tbody>\n",
       "</table>\n",
       "</div>"
      ],
      "text/plain": [
       "                                                name  \\\n",
       "0  Se Eu Quiser Falar Com Deus                   ...   \n",
       "1  Saudade De Bahia                              ...   \n",
       "\n",
       "                                             artist  danceability  energy  \\\n",
       "0  Gilberto Gil                                             0.658   0.259   \n",
       "1  Antônio Carlos Jobim                                     0.742   0.399   \n",
       "\n",
       "   key  loudness  mode  speechiness  acousticness  instrumentalness  liveness  \\\n",
       "0   11   -13.141     0       0.0705         0.694          0.000059     0.975   \n",
       "1    2   -12.646     1       0.0346         0.217          0.000002     0.107   \n",
       "\n",
       "   valence    tempo   type  duration_ms  time_signature  \\\n",
       "0    0.306  110.376              256213               4   \n",
       "1    0.693  125.039              191867               4   \n",
       "\n",
       "                        id                                               html  \\\n",
       "0  1n7JnwviZ7zf0LR1tcGFq7   https://open.spotify.com/track/1n7JnwviZ7zf0LR...   \n",
       "1  5QGM1U0eCYrQuwSJwTm5Zq   https://open.spotify.com/track/5QGM1U0eCYrQuwS...   \n",
       "\n",
       "   cluster  \n",
       "0       15  \n",
       "1        9  "
      ]
     },
     "execution_count": 4,
     "metadata": {},
     "output_type": "execute_result"
    }
   ],
   "source": [
    "songs.head(2)\n"
   ]
  },
  {
   "attachments": {},
   "cell_type": "markdown",
   "metadata": {},
   "source": [
    "## preparing connection to app in spotify"
   ]
  },
  {
   "cell_type": "code",
   "execution_count": 5,
   "metadata": {},
   "outputs": [
    {
     "name": "stderr",
     "output_type": "stream",
     "text": [
      "Python-dotenv could not parse statement starting at line 5\n",
      "Python-dotenv could not parse statement starting at line 7\n"
     ]
    },
    {
     "data": {
      "text/plain": [
       "True"
      ]
     },
     "execution_count": 5,
     "metadata": {},
     "output_type": "execute_result"
    }
   ],
   "source": [
    "load_dotenv()\n"
   ]
  },
  {
   "cell_type": "code",
   "execution_count": 6,
   "metadata": {},
   "outputs": [],
   "source": [
    "# scope = \"user-library-read\"\n",
    "scope = 'playlist-modify-public'\n",
    "username = os.getenv(\"spotify_username\")\n",
    "redirectUri = \"http://localhost:8000/callback\"\n",
    "# pip install spotipy --update\n",
    "# pip install --upgrade library_name9',\n",
    "token = SpotifyOAuth(scope=scope, username=username, client_id=os.getenv(\"spotify_client_id\"),\n",
    "                     client_secret=os.getenv(\"spotify_client_secret\"), redirect_uri='http://localhost:8000/callback',)\n",
    "spotifyObject = spotipy.Spotify(auth_manager=token)\n"
   ]
  },
  {
   "cell_type": "code",
   "execution_count": 7,
   "metadata": {},
   "outputs": [
    {
     "name": "stdout",
     "output_type": "stream",
     "text": [
      "<class 'pandas.core.frame.DataFrame'>\n",
      "RangeIndex: 5235 entries, 0 to 5234\n",
      "Data columns (total 19 columns):\n",
      " #   Column            Non-Null Count  Dtype  \n",
      "---  ------            --------------  -----  \n",
      " 0   name              5235 non-null   object \n",
      " 1   artist            5235 non-null   object \n",
      " 2   danceability      5235 non-null   float64\n",
      " 3   energy            5235 non-null   float64\n",
      " 4   key               5235 non-null   int64  \n",
      " 5   loudness          5235 non-null   float64\n",
      " 6   mode              5235 non-null   int64  \n",
      " 7   speechiness       5235 non-null   float64\n",
      " 8   acousticness      5235 non-null   float64\n",
      " 9   instrumentalness  5235 non-null   float64\n",
      " 10  liveness          5235 non-null   float64\n",
      " 11  valence           5235 non-null   float64\n",
      " 12  tempo             5235 non-null   float64\n",
      " 13  type              5235 non-null   object \n",
      " 14  duration_ms       5235 non-null   int64  \n",
      " 15  time_signature    5235 non-null   int64  \n",
      " 16  id                5235 non-null   object \n",
      " 17  html              5235 non-null   object \n",
      " 18  cluster           5235 non-null   int64  \n",
      "dtypes: float64(9), int64(5), object(5)\n",
      "memory usage: 777.2+ KB\n"
     ]
    }
   ],
   "source": [
    "songs.info()\n"
   ]
  },
  {
   "attachments": {},
   "cell_type": "markdown",
   "metadata": {},
   "source": [
    "# create playlists as list of df"
   ]
  },
  {
   "cell_type": "code",
   "execution_count": 8,
   "metadata": {},
   "outputs": [],
   "source": [
    "playlists = []\n",
    "for i in range(21):\n",
    "    playlists.append(songs[songs['cluster'] == i])\n"
   ]
  },
  {
   "cell_type": "code",
   "execution_count": 9,
   "metadata": {},
   "outputs": [
    {
     "data": {
      "text/plain": [
       "21"
      ]
     },
     "execution_count": 9,
     "metadata": {},
     "output_type": "execute_result"
    }
   ],
   "source": [
    "len(playlists)\n"
   ]
  },
  {
   "cell_type": "code",
   "execution_count": 12,
   "metadata": {},
   "outputs": [],
   "source": [
    "import itertools\n",
    "\n",
    "for i, playlist in enumerate(playlists):\n",
    "    playlist_name = f'Playlist{i}'\n",
    "    playlist_description = ''\n",
    "    playlist_id = spotifyObject.user_playlist_create(\n",
    "        user=username, name=playlist_name, public=True, description=playlist_description)['id']\n",
    "    list_of_songs = []\n",
    "    for index, song in playlist.iterrows():\n",
    "        result = spotifyObject.search(\n",
    "            q=f\"{song['name']} artist:{song['artist']}\", type='track', limit=1)\n",
    "        try:\n",
    "            list_of_songs.append(result['tracks']['items'][0]['id'])\n",
    "        except IndexError:\n",
    "            continue\n",
    "\n",
    "    track_chunks = list(itertools.islice(list_of_songs, 100))\n",
    "    spotifyObject.user_playlist_add_tracks(\n",
    "        user=username, playlist_id=playlist_id, tracks=track_chunks)\n"
   ]
  }
 ],
 "metadata": {
  "kernelspec": {
   "display_name": "base",
   "language": "python",
   "name": "python3"
  },
  "language_info": {
   "codemirror_mode": {
    "name": "ipython",
    "version": 3
   },
   "file_extension": ".py",
   "mimetype": "text/x-python",
   "name": "python",
   "nbconvert_exporter": "python",
   "pygments_lexer": "ipython3",
   "version": "3.11.4"
  },
  "orig_nbformat": 4
 },
 "nbformat": 4,
 "nbformat_minor": 2
}
